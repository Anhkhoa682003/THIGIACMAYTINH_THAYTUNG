{
 "cells": [
  {
   "cell_type": "code",
   "execution_count": 15,
   "id": "8b29e3da-bf02-4dcd-ae2f-98659e567d5a",
   "metadata": {
    "tags": []
   },
   "outputs": [
    {
     "ename": "SyntaxError",
     "evalue": "source code string cannot contain null bytes (<string>)",
     "output_type": "error",
     "traceback": [
      "Traceback \u001b[1;36m(most recent call last)\u001b[0m:\n",
      "\u001b[0m  File \u001b[0;32mC:\\ProgramData\\anaconda3\\Lib\\site-packages\\IPython\\core\\interactiveshell.py:3577\u001b[0m in \u001b[0;35mrun_code\u001b[0m\n    exec(code_obj, self.user_global_ns, self.user_ns)\u001b[0m\n",
      "\u001b[1;36m  Cell \u001b[1;32mIn[15], line 3\u001b[1;36m\n\u001b[1;33m    import matplotlib.pyplot as plt\u001b[1;36m\n",
      "\u001b[1;36m  File \u001b[1;32m<string>\u001b[1;36m\u001b[0m\n\u001b[1;31mSyntaxError\u001b[0m\u001b[1;31m:\u001b[0m source code string cannot contain null bytes\n"
     ]
    }
   ],
   "source": [
    "from PIL import Image\n",
    "import numpy as np\n",
    "import matplotlib.pyplot as plt\n",
    "from scipy import ndimage\n",
    "\n",
    "# Đọc ảnh\n",
    "image_path = 'C:/Users/Acer/Pictures/Capture1.PNG'\n",
    "image = Image.open(image_path)\n",
    "\n",
    "# Ảnh xám\n",
    "gray_image = image.convert('L')\n",
    "\n",
    "# Chuyển ảnh xám về mảng\n",
    "image_a = np.array(gray_image)\n",
    "\n",
    "# Tính gradient theo hướng x\n",
    "gradient_x = ndimage.sobel(image_a, axis=0, mode='constant')\n",
    "\n",
    "# Hiển thị ảnh\n",
    "fig, axs = plt.subplots(2,1, figsize=(10, 8))\n",
    "\n",
    "plt.subplot(2,1,1)\n",
    "plt.imshow(gray_image, cmap='gray')\n",
    "plt.title('Ảnh xám gốc')\n",
    "\n",
    "plt.subplot(2,1,2)\n",
    "plt.imshow(gradient_x, cmap='gray')\n",
    "plt.title('Ảnh xám gốc')\n",
    "\n",
    "plt.show()"
   ]
  },
  {
   "cell_type": "code",
   "execution_count": 17,
   "id": "12c4ac44-36df-4ccf-b036-af0ff8d93848",
   "metadata": {
    "tags": []
   },
   "outputs": [
    {
     "ename": "SyntaxError",
     "evalue": "source code string cannot contain null bytes (<string>)",
     "output_type": "error",
     "traceback": [
      "Traceback \u001b[1;36m(most recent call last)\u001b[0m:\n",
      "\u001b[0m  File \u001b[0;32mC:\\ProgramData\\anaconda3\\Lib\\site-packages\\IPython\\core\\interactiveshell.py:3577\u001b[0m in \u001b[0;35mrun_code\u001b[0m\n    exec(code_obj, self.user_global_ns, self.user_ns)\u001b[0m\n",
      "\u001b[1;36m  Cell \u001b[1;32mIn[17], line 3\u001b[1;36m\n\u001b[1;33m    import matplotlib.pyplot as plt\u001b[1;36m\n",
      "\u001b[1;36m  File \u001b[1;32m<string>\u001b[1;36m\u001b[0m\n\u001b[1;31mSyntaxError\u001b[0m\u001b[1;31m:\u001b[0m source code string cannot contain null bytes\n"
     ]
    }
   ],
   "source": [
    "from PIL import Image\n",
    "import numpy as np\n",
    "import matplotlib.pyplot as plt\n",
    "from scipy import ndimage\n",
    "\n",
    "# Đọc ảnh\n",
    "image_path = 'C:/Users/tungi/OneDrive/Documents/src_cv/img/01/img_avg_1.jpg'\n",
    "image = Image.open(image_path)\n",
    "\n",
    "# Ảnh xám\n",
    "gray_image = image.convert('L')\n",
    "\n",
    "# Chuyển ảnh xám về mảng\n",
    "image_a = np.array(gray_image)\n",
    "\n",
    "# Tính gradient theo hướng x\n",
    "gradient_x = ndimage.sobel(image_a, axis=1, mode='constant')\n",
    "\n",
    "# Hiển thị ảnh\n",
    "fig, axs = plt.subplots(2,1, figsize=(10, 8))\n",
    "\n",
    "plt.subplot(2,1,1)\n",
    "plt.imshow(gray_image, cmap='gray')\n",
    "plt.title('Ảnh xám gốc')\n",
    "\n",
    "plt.subplot(2,1,2)\n",
    "plt.imshow(gradient_x, cmap='gray')\n",
    "plt.title('Ảnh xám gốc')\n",
    "\n",
    "plt.show()"
   ]
  },
  {
   "cell_type": "code",
   "execution_count": 19,
   "id": "b2c99e35-d24c-4a48-a7e5-555a2b723b01",
   "metadata": {
    "tags": []
   },
   "outputs": [
    {
     "ename": "SyntaxError",
     "evalue": "source code string cannot contain null bytes (<string>)",
     "output_type": "error",
     "traceback": [
      "Traceback \u001b[1;36m(most recent call last)\u001b[0m:\n",
      "\u001b[0m  File \u001b[0;32mC:\\ProgramData\\anaconda3\\Lib\\site-packages\\IPython\\core\\interactiveshell.py:3577\u001b[0m in \u001b[0;35mrun_code\u001b[0m\n    exec(code_obj, self.user_global_ns, self.user_ns)\u001b[0m\n",
      "\u001b[1;36m  Cell \u001b[1;32mIn[19], line 3\u001b[1;36m\n\u001b[1;33m    import matplotlib.pyplot as plt\u001b[1;36m\n",
      "\u001b[1;36m  File \u001b[1;32m<string>\u001b[1;36m\u001b[0m\n\u001b[1;31mSyntaxError\u001b[0m\u001b[1;31m:\u001b[0m source code string cannot contain null bytes\n"
     ]
    }
   ],
   "source": [
    "from PIL import Image\n",
    "import numpy as np\n",
    "import matplotlib.pyplot as plt\n",
    "from scipy import ndimage\n",
    "\n",
    "# Đọc ảnh\n",
    "image_path = 'C:/Users/tungi/OneDrive/Documents/src_cv/img/01/img_avg_1.jpg'\n",
    "image = Image.open(image_path)\n",
    "\n",
    "# Ảnh xám\n",
    "gray_image = image.convert('L')\n",
    "\n",
    "# Chuyển ảnh xám về mảng\n",
    "image_a = np.array(gray_image)\n",
    "\n",
    "# Tính gradient theo hướng x (đạo hàm riêng theo x) bằng mặt nạ Prewitt x\n",
    "gradient_x = ndimage.convolve(image_a, np.array([[-1, 0, 1], [-1, 0, 1], [-1, 0, 1]]))\n",
    "\n",
    "# Tính gradient theo hướng y (đạo hàm riêng theo y) bằng mặt nạ Prewitt y\n",
    "gradient_y = ndimage.convolve(image_a, np.array([[-1, -1, -1], [0, 0, 0], [1, 1, 1]]))\n",
    "\n",
    "# Tính biên độ gradient\n",
    "gradient_magnitude = np.sqrt(gradient_x**2 + gradient_y**2)\n",
    "\n",
    "# Hiển thị ảnh\n",
    "fig, axs = plt.subplots(2,1, figsize=(10, 8))\n",
    "\n",
    "plt.subplot(2,1,1)\n",
    "plt.imshow(gray_image, cmap='gray')\n",
    "plt.title('Ảnh xám gốc')\n",
    "\n",
    "plt.subplot(2,1,2)\n",
    "plt.imshow(gradient_magnitude, cmap='gray')\n",
    "plt.title('Ảnh xám gốc')\n",
    "\n",
    "plt.show()"
   ]
  },
  {
   "cell_type": "code",
   "execution_count": null,
   "id": "38c2dfbc-8680-4b59-822b-8304868007a5",
   "metadata": {},
   "outputs": [],
   "source": []
  }
 ],
 "metadata": {
  "kernelspec": {
   "display_name": "Python 3 (ipykernel)",
   "language": "python",
   "name": "python3"
  },
  "language_info": {
   "codemirror_mode": {
    "name": "ipython",
    "version": 3
   },
   "file_extension": ".py",
   "mimetype": "text/x-python",
   "name": "python",
   "nbconvert_exporter": "python",
   "pygments_lexer": "ipython3",
   "version": "3.12.4"
  }
 },
 "nbformat": 4,
 "nbformat_minor": 5
}
