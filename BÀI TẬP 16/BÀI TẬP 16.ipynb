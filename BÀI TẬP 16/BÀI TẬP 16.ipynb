{
 "cells": [
  {
   "cell_type": "code",
   "execution_count": 7,
   "id": "43e79f4e-018b-401e-8c37-692e55058867",
   "metadata": {
    "tags": []
   },
   "outputs": [
    {
     "ename": "SyntaxError",
     "evalue": "source code string cannot contain null bytes (<string>)",
     "output_type": "error",
     "traceback": [
      "Traceback \u001b[1;36m(most recent call last)\u001b[0m:\n",
      "\u001b[0m  File \u001b[0;32mC:\\ProgramData\\anaconda3\\Lib\\site-packages\\IPython\\core\\interactiveshell.py:3577\u001b[0m in \u001b[0;35mrun_code\u001b[0m\n    exec(code_obj, self.user_global_ns, self.user_ns)\u001b[0m\n",
      "\u001b[1;36m  Cell \u001b[1;32mIn[7], line 3\u001b[1;36m\n\u001b[1;33m    import matplotlib.pyplot as plt\u001b[1;36m\n",
      "\u001b[1;36m  File \u001b[1;32m<string>\u001b[1;36m\u001b[0m\n\u001b[1;31mSyntaxError\u001b[0m\u001b[1;31m:\u001b[0m source code string cannot contain null bytes\n"
     ]
    }
   ],
   "source": [
    "from PIL import Image\n",
    "import numpy as np\n",
    "import matplotlib.pyplot as plt\n",
    "from scipy import ndimage\n",
    "\n",
    "# Đọc ảnh\n",
    "image_path = 'C:/Users/Acer/Pictures/Capture1.PNG'\n",
    "image = Image.open(image_path)\n",
    "\n",
    "# Ảnh xám\n",
    "gray_image = image.convert('L')\n",
    "\n",
    "# Chuyển ảnh xám về mảng\n",
    "image_a = np.array(gray_image)\n",
    "\n",
    "# Làm mờ ảnh xám với bộ lọc Gaussian\n",
    "blurred_image_a = ndimage.gaussian_filter(image_a, sigma=1, mode=\"constant\")\n",
    "blurred_image_b = ndimage.gaussian_filter(image_a, sigma=3, mode=\"constant\")\n",
    "blurred_image_c = ndimage.gaussian_filter(image_a, sigma=5, mode=\"constant\")\n",
    "\n",
    "# Hiển thị ảnh\n",
    "fig, axs = plt.subplots(2,2, figsize=(10, 8))\n",
    "\n",
    "plt.subplot(2,2,1)\n",
    "plt.imshow(gray_image, cmap='gray')\n",
    "plt.title('Ảnh xám gốc')\n",
    "\n",
    "plt.subplot(2,2,2)\n",
    "plt.imshow(blurred_image_a, cmap='gray')\n",
    "plt.title('sigma=1')\n",
    "\n",
    "plt.subplot(2,2,3)\n",
    "plt.imshow(blurred_image_b, cmap='gray')\n",
    "plt.title('sigma=3')\n",
    "\n",
    "plt.subplot(2,2,4)\n",
    "plt.imshow(blurred_image_c, cmap='gray')\n",
    "plt.title('sigma=5')"
   ]
  },
  {
   "cell_type": "code",
   "execution_count": null,
   "id": "98bafcc0-9c24-476c-b23c-11b2871cca14",
   "metadata": {},
   "outputs": [],
   "source": []
  }
 ],
 "metadata": {
  "kernelspec": {
   "display_name": "Python 3 (ipykernel)",
   "language": "python",
   "name": "python3"
  },
  "language_info": {
   "codemirror_mode": {
    "name": "ipython",
    "version": 3
   },
   "file_extension": ".py",
   "mimetype": "text/x-python",
   "name": "python",
   "nbconvert_exporter": "python",
   "pygments_lexer": "ipython3",
   "version": "3.12.4"
  }
 },
 "nbformat": 4,
 "nbformat_minor": 5
}
