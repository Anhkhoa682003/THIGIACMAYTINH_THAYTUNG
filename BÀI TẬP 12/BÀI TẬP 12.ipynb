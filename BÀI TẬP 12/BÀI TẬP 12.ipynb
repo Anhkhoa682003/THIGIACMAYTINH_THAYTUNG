{
 "cells": [
  {
   "cell_type": "code",
   "execution_count": 17,
   "id": "c93fb3d1-3de4-4dbe-9f6c-c79dd078942d",
   "metadata": {},
   "outputs": [],
   "source": [
    "from PIL import Image\n",
    "import matplotlib.pyplot as plt\n",
    "import numpy as np"
   ]
  },
  {
   "cell_type": "code",
   "execution_count": 18,
   "id": "6479e0a9-55af-406d-97db-6dd3e9f06aa1",
   "metadata": {},
   "outputs": [],
   "source": [
    "dir = 'C:/Users/Acer/Pictures'"
   ]
  },
  {
   "cell_type": "code",
   "execution_count": 19,
   "id": "4acc347f-8016-415e-abc8-2fa6ba9bcaf4",
   "metadata": {},
   "outputs": [],
   "source": [
    "image_path = dir +'/211.PNG'"
   ]
  },
  {
   "cell_type": "code",
   "execution_count": 20,
   "id": "30ffe4f1-f9ea-4c77-b3f6-70b5eac09bbd",
   "metadata": {},
   "outputs": [
    {
     "name": "stdout",
     "output_type": "stream",
     "text": [
      "C:/Users/Acer/Pictures/211.PNG\n"
     ]
    }
   ],
   "source": [
    "print(image_path)"
   ]
  },
  {
   "cell_type": "code",
   "execution_count": 21,
   "id": "e6cd972a-26e7-4df3-bf03-eb7411f46ff1",
   "metadata": {},
   "outputs": [],
   "source": [
    "img01 = Image.open(image_path)"
   ]
  },
  {
   "cell_type": "code",
   "execution_count": 22,
   "id": "10504542-603e-45e5-adfa-c6a97fd9330f",
   "metadata": {},
   "outputs": [],
   "source": [
    "img01_array = np.array(img01)"
   ]
  },
  {
   "cell_type": "code",
   "execution_count": 23,
   "id": "06c67ef7-40ae-4a7e-98f0-7a415be15038",
   "metadata": {},
   "outputs": [
    {
     "name": "stdout",
     "output_type": "stream",
     "text": [
      "(1080, 1920, 4)\n"
     ]
    }
   ],
   "source": [
    "print(img01_array.shape)"
   ]
  },
  {
   "cell_type": "code",
   "execution_count": 24,
   "id": "e3b16396-0630-4f2c-b5e7-57b8c1bc31ba",
   "metadata": {},
   "outputs": [
    {
     "name": "stdout",
     "output_type": "stream",
     "text": [
      "(1080, 1920)\n",
      "float32\n"
     ]
    }
   ],
   "source": [
    "img01_array_gray = np.array(img01.convert('L'), 'f')\n",
    "print(img01_array_gray.shape)\n",
    "print(img01_array_gray.dtype)"
   ]
  },
  {
   "cell_type": "code",
   "execution_count": null,
   "id": "68b1d382-7d12-4663-a21d-412a2627349a",
   "metadata": {},
   "outputs": [],
   "source": []
  }
 ],
 "metadata": {
  "kernelspec": {
   "display_name": "Python 3 (ipykernel)",
   "language": "python",
   "name": "python3"
  },
  "language_info": {
   "codemirror_mode": {
    "name": "ipython",
    "version": 3
   },
   "file_extension": ".py",
   "mimetype": "text/x-python",
   "name": "python",
   "nbconvert_exporter": "python",
   "pygments_lexer": "ipython3",
   "version": "3.12.4"
  }
 },
 "nbformat": 4,
 "nbformat_minor": 5
}
