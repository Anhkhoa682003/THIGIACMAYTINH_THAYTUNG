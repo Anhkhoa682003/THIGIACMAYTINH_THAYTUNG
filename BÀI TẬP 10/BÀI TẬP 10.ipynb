{
 "cells": [
  {
   "cell_type": "code",
   "execution_count": 27,
   "id": "b6f343a7-f041-4977-a5ba-cf6c43080533",
   "metadata": {},
   "outputs": [],
   "source": [
    "from PIL import Image\n",
    "import matplotlib.pyplot as plt\n",
    "import numpy as np"
   ]
  },
  {
   "cell_type": "code",
   "execution_count": 28,
   "id": "25d5a52e-ab83-4f80-a479-9d0197aa90ec",
   "metadata": {},
   "outputs": [],
   "source": [
    "dir = 'C:/Users/Acer/Pictures'"
   ]
  },
  {
   "cell_type": "code",
   "execution_count": 29,
   "id": "6f46b8a6-1a85-4e4e-a26b-eb6a5a502dea",
   "metadata": {},
   "outputs": [],
   "source": [
    "image_path = dir +'/211.PNG'"
   ]
  },
  {
   "cell_type": "code",
   "execution_count": 30,
   "id": "1e37d242-6267-4d32-a04a-18e674c16d00",
   "metadata": {},
   "outputs": [
    {
     "name": "stdout",
     "output_type": "stream",
     "text": [
      "C:/Users/Acer/Pictures/211.PNG\n"
     ]
    }
   ],
   "source": [
    "print(image_path)"
   ]
  },
  {
   "cell_type": "code",
   "execution_count": 31,
   "id": "f062dc46-f9f5-4b19-b3b4-a873cfc08411",
   "metadata": {},
   "outputs": [],
   "source": [
    "img01 = Image.open(image_path)"
   ]
  },
  {
   "cell_type": "code",
   "execution_count": 32,
   "id": "29d0e2b7-d1b0-4e35-97ec-3b9961c93c5b",
   "metadata": {},
   "outputs": [],
   "source": [
    "plt.switch_backend('tkagg')"
   ]
  },
  {
   "cell_type": "code",
   "execution_count": 33,
   "id": "962bbe71-3f1c-4c94-8c2f-bb355bd1a7b4",
   "metadata": {},
   "outputs": [
    {
     "name": "stdout",
     "output_type": "stream",
     "text": [
      "[(1611.4943854676274, 396.3482304683773), (1612.9661560894504, 439.0295785012469), (1614.4379267112733, 480.2391559122933), (1614.4379267112733, 480.2391559122933), (1696.8570815333662, 444.9166609885392)]\n"
     ]
    }
   ],
   "source": [
    "plt.imshow(img01)\n",
    "plt.title('click on the Image to select points')\n",
    "points = plt.ginput(5)\n",
    "print(points)\n",
    "plt.show()"
   ]
  },
  {
   "cell_type": "code",
   "execution_count": 34,
   "id": "ab13c62d-6c51-4568-b71b-1d3380b1a70f",
   "metadata": {},
   "outputs": [],
   "source": [
    "plt.close()"
   ]
  },
  {
   "cell_type": "code",
   "execution_count": null,
   "id": "6bb7f90b-3bc8-4fc8-8e1a-8cf139e12373",
   "metadata": {},
   "outputs": [],
   "source": [
    "plt.imshow(img01)\n",
    "for point in points:\n",
    "    x, y = point\n",
    "    plt.plot(x,y, 'r*')\n",
    "\n",
    "plt.show()"
   ]
  },
  {
   "cell_type": "code",
   "execution_count": null,
   "id": "27e2b053-405f-41b4-a987-4db56c8cd2eb",
   "metadata": {},
   "outputs": [],
   "source": []
  }
 ],
 "metadata": {
  "kernelspec": {
   "display_name": "Python 3 (ipykernel)",
   "language": "python",
   "name": "python3"
  },
  "language_info": {
   "codemirror_mode": {
    "name": "ipython",
    "version": 3
   },
   "file_extension": ".py",
   "mimetype": "text/x-python",
   "name": "python",
   "nbconvert_exporter": "python",
   "pygments_lexer": "ipython3",
   "version": "3.12.4"
  }
 },
 "nbformat": 4,
 "nbformat_minor": 5
}
